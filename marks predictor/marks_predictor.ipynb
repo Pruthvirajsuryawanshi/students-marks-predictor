{
  "cells": [
    {
      "cell_type": "code",
      "execution_count": 4,
      "metadata": {
        "id": "jZJwUn44eK2t"
      },
      "outputs": [],
      "source": [
        "import sklearn\n",
        "from sklearn.linear_model import LinearRegression\n",
        "from sklearn.metrics import mean_absolute_error, mean_squared_error\n",
        "import numpy as np\n",
        "import pandas as pd \n",
        "import os\n",
        "import zipfile\n",
        "from sklearn.metrics import confusion_matrix"
      ]
    },
    {
      "cell_type": "code",
      "execution_count": 10,
      "metadata": {
        "colab": {
          "base_uri": "https://localhost:8080/"
        },
        "id": "KAqfi-iH8vGt",
        "outputId": "34ffdc41-bc3a-4e00-b3af-5534b66ff007"
      },
      "outputs": [],
      "source": [
        "\n",
        "#the dataset!wget= https://www.kaggle.com/api/v1/datasets/download/yasserh/student-marks-dataset\n"
      ]
    },
    {
      "cell_type": "code",
      "execution_count": 6,
      "metadata": {},
      "outputs": [],
      "source": [
        "data = pd.read_csv(\"Student_Marks.csv\")"
      ]
    },
    {
      "cell_type": "code",
      "execution_count": 11,
      "metadata": {
        "colab": {
          "base_uri": "https://localhost:8080/"
        },
        "id": "lxv7bWsB-8-l",
        "outputId": "11a1ac93-8db9-4e45-9fd3-acdea11e3c8c"
      },
      "outputs": [
        {
          "name": "stdout",
          "output_type": "stream",
          "text": [
            "mean absolute error 3.020971875349614\n",
            "mean squared error 12.116962069108952\n",
            "root mean squared error 3.4809426983374707\n",
            "The predicted marks for the students is  28.666827978676903\n"
          ]
        }
      ],
      "source": [
        "X = data[[\"number_courses\",\"time_study\"]].values\n",
        "y = data[\"Marks\"]\n",
        "\n",
        "model = LinearRegression()\n",
        "model.fit(X,y)\n",
        "pred_y = model.predict(X)\n",
        "\n",
        "mae = mean_absolute_error(y, pred_y)\n",
        "mse = mean_squared_error(y, pred_y)\n",
        "rmse = np.sqrt(mse)\n",
        "print(\"mean absolute error\",mae)\n",
        "print(\"mean squared error\",mse)\n",
        "print(\"root mean squared error\",rmse)\n",
        "\n",
        "hours = 6\n",
        "courses = 2\n",
        "\n",
        "pred = model.predict([[courses,hours]])\n",
        "\n",
        "print(\"The predicted marks for the students is \",pred[0])"
      ]
    }
  ],
  "metadata": {
    "colab": {
      "provenance": []
    },
    "kernelspec": {
      "display_name": "Python 3",
      "name": "python3"
    },
    "language_info": {
      "codemirror_mode": {
        "name": "ipython",
        "version": 3
      },
      "file_extension": ".py",
      "mimetype": "text/x-python",
      "name": "python",
      "nbconvert_exporter": "python",
      "pygments_lexer": "ipython3",
      "version": "3.13.7"
    }
  },
  "nbformat": 4,
  "nbformat_minor": 0
}
